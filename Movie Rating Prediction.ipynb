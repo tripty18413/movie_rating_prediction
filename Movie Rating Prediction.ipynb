{
 "cells": [
  {
   "cell_type": "code",
   "execution_count": 38,
   "metadata": {},
   "outputs": [],
   "source": [
    "import numpy as np\n",
    "import pandas as pd\n",
    "import matplotlib.pyplot as plt\n",
    "import seaborn as sns"
   ]
  },
  {
   "cell_type": "code",
   "execution_count": 39,
   "metadata": {},
   "outputs": [
    {
     "data": {
      "application/vnd.microsoft.datawrangler.viewer.v0+json": {
       "columns": [
        {
         "name": "index",
         "rawType": "int64",
         "type": "integer"
        },
        {
         "name": "Name",
         "rawType": "object",
         "type": "string"
        },
        {
         "name": "Year",
         "rawType": "object",
         "type": "unknown"
        },
        {
         "name": "Duration",
         "rawType": "object",
         "type": "unknown"
        },
        {
         "name": "Genre",
         "rawType": "object",
         "type": "unknown"
        },
        {
         "name": "Rating",
         "rawType": "float64",
         "type": "float"
        },
        {
         "name": "Votes",
         "rawType": "object",
         "type": "unknown"
        },
        {
         "name": "Director",
         "rawType": "object",
         "type": "unknown"
        },
        {
         "name": "Actor 1",
         "rawType": "object",
         "type": "unknown"
        },
        {
         "name": "Actor 2",
         "rawType": "object",
         "type": "unknown"
        },
        {
         "name": "Actor 3",
         "rawType": "object",
         "type": "unknown"
        }
       ],
       "conversionMethod": "pd.DataFrame",
       "ref": "3a40b38e-7e79-44d1-9c44-49f7349ae108",
       "rows": [
        [
         "0",
         " ",
         null,
         null,
         "Drama",
         null,
         null,
         "J.S. Randhawa",
         "Manmauji",
         "Birbal",
         "Rajendra Bhatia"
        ],
        [
         "1",
         "#Gadhvi (He thought he was Gandhi)",
         "(2019)",
         "109 min",
         "Drama",
         "7.0",
         "8",
         "Gaurav Bakshi",
         "Rasika Dugal",
         "Vivek Ghamande",
         "Arvind Jangid"
        ],
        [
         "2",
         "#Homecoming",
         "(2021)",
         "90 min",
         "Drama, Musical",
         null,
         null,
         "Soumyajit Majumdar",
         "Sayani Gupta",
         "Plabita Borthakur",
         "Roy Angana"
        ],
        [
         "3",
         "#Yaaram",
         "(2019)",
         "110 min",
         "Comedy, Romance",
         "4.4",
         "35",
         "Ovais Khan",
         "Prateik",
         "Ishita Raj",
         "Siddhant Kapoor"
        ],
        [
         "4",
         "...And Once Again",
         "(2010)",
         "105 min",
         "Drama",
         null,
         null,
         "Amol Palekar",
         "Rajat Kapoor",
         "Rituparna Sengupta",
         "Antara Mali"
        ],
        [
         "5",
         "...Aur Pyaar Ho Gaya",
         "(1997)",
         "147 min",
         "Comedy, Drama, Musical",
         "4.7",
         "827",
         "Rahul Rawail",
         "Bobby Deol",
         "Aishwarya Rai Bachchan",
         "Shammi Kapoor"
        ],
        [
         "6",
         "...Yahaan",
         "(2005)",
         "142 min",
         "Drama, Romance, War",
         "7.4",
         "1,086",
         "Shoojit Sircar",
         "Jimmy Sheirgill",
         "Minissha Lamba",
         "Yashpal Sharma"
        ],
        [
         "7",
         ".in for Motion",
         "(2008)",
         "59 min",
         "Documentary",
         null,
         null,
         "Anirban Datta",
         null,
         null,
         null
        ],
        [
         "8",
         "?: A Question Mark",
         "(2012)",
         "82 min",
         "Horror, Mystery, Thriller",
         "5.6",
         "326",
         "Allyson Patel",
         "Yash Dave",
         "Muntazir Ahmad",
         "Kiran Bhatia"
        ],
        [
         "9",
         "@Andheri",
         "(2014)",
         "116 min",
         "Action, Crime, Thriller",
         "4.0",
         "11",
         "Biju Bhaskar Nair",
         "Augustine",
         "Fathima Babu",
         "Byon"
        ],
        [
         "10",
         "1:1.6 An Ode to Lost Love",
         "(2004)",
         "96 min",
         "Drama",
         "6.2",
         "17",
         "Madhu Ambat",
         "Rati Agnihotri",
         "Gulshan Grover",
         "Atul Kulkarni"
        ],
        [
         "11",
         "1:13:7 Ek Tera Saath",
         "(2016)",
         "120 min",
         "Horror",
         "5.9",
         "59",
         "Arshad Siddiqui",
         "Pankaj Berry",
         "Anubhav Dhir",
         "Hritu Dudani"
        ],
        [
         "12",
         "100 Days",
         "(1991)",
         "161 min",
         "Horror, Romance, Thriller",
         "6.5",
         "983",
         "Partho Ghosh",
         "Jackie Shroff",
         "Madhuri Dixit",
         "Javed Jaffrey"
        ],
        [
         "13",
         "100% Love",
         "(2012)",
         "166 min",
         "Comedy, Drama, Romance",
         "5.7",
         "512",
         "Rabi Kinagi",
         "Jeet",
         "Koyel Mallick",
         "Sujoy Ghosh"
        ],
        [
         "14",
         "101 Ratein",
         "(1990)",
         null,
         "Thriller",
         null,
         null,
         "Harish",
         "Saraswati",
         "Disco Shanti",
         null
        ],
        [
         "15",
         "102 Not Out",
         "(2018)",
         "102 min",
         "Comedy, Drama",
         "7.4",
         "6,619",
         "Umesh Shukla",
         "Amitabh Bachchan",
         "Rishi Kapoor",
         "Vijay Raaz"
        ],
        [
         "16",
         "108 Limited",
         null,
         null,
         null,
         null,
         null,
         "Anand Anddy",
         "Vijay Raaz",
         "Sanjay Mishra",
         "Brahmanandam"
        ],
        [
         "17",
         "108 Teerthyatra",
         "(1987)",
         null,
         "Comedy, Drama, Fantasy",
         null,
         null,
         "Rajpati",
         "Pravin Anand",
         "Nayan Bhatt",
         "Jeetu"
        ],
        [
         "18",
         "10ml LOVE",
         "(2010)",
         "87 min",
         "Comedy, Drama, Romance",
         "6.3",
         "162",
         "Sharat Katariya",
         "Neil Bhoopalam",
         "Anusha Bose",
         "Manu Rishi Chadha"
        ],
        [
         "19",
         "11 O'Clock",
         "(1948)",
         null,
         null,
         null,
         null,
         "Homi Wadia",
         "Aftab",
         "Sayani Atish",
         "Austin Ki Bachchi"
        ],
        [
         "20",
         "12 Bulbule",
         "(2021)",
         null,
         "Comedy, Drama, Family",
         null,
         null,
         "Jagat Joon",
         "Sonu Sonkar",
         "Sunita Verman",
         "Anubhav Dixit"
        ],
        [
         "21",
         "12 O'Clock",
         "(1958)",
         "132 min",
         "Crime, Drama, Mystery",
         "7.2",
         "72",
         "Pramod Chakravorty",
         "Guru Dutt",
         "Waheeda Rehman",
         "Shashikala"
        ],
        [
         "22",
         "12 O'Clock",
         "(2021)",
         "105 min",
         "Horror, Thriller",
         "4.4",
         "63",
         "Ram Gopal Varma",
         "Mithun Chakraborty",
         "Makrand Deshpande",
         "Dalip Tahil"
        ],
        [
         "23",
         "12 Years",
         null,
         null,
         "Biography",
         null,
         null,
         "Sohail Tatari",
         null,
         null,
         null
        ],
        [
         "24",
         "124a",
         "(2021)",
         null,
         "Documentary",
         null,
         null,
         "Varrun Sukhraj",
         null,
         null,
         null
        ],
        [
         "25",
         "127 B",
         "(2017)",
         "116 min",
         "Comedy, Horror",
         "6.6",
         "26",
         "Seshu Kmr",
         "Mast Ali",
         "Aziz Naser",
         "Heena Shaik"
        ],
        [
         "26",
         "13 May Gulaabi Nagar",
         "(2010)",
         null,
         "Action",
         null,
         null,
         "N.K. Pareek",
         "Nirmal Pandey",
         "Khushi Rajpoot",
         "Raj Singh Verma"
        ],
        [
         "27",
         "13 Tribute of Love",
         "(2020)",
         "66 min",
         "Drama",
         null,
         null,
         "Rahul Tiwari",
         "Rahul Tiwari Adhiyari",
         "Anil Arora",
         "Asima Bhatt"
        ],
        [
         "28",
         "13B: Fear Has a New Address",
         "(2009)",
         "146 min",
         "Drama, Horror, Mystery",
         "7.3",
         "6,329",
         "Vikram K. Kumar",
         "Madhavan",
         "Neetu Chandra",
         "Poonam Dhillon"
        ],
        [
         "29",
         "14 Phere",
         "(2021)",
         null,
         "Comedy",
         null,
         null,
         "Devanshu Singh",
         "Vikrant Massey",
         "Kriti Kharbanda",
         "Gauahar Khan"
        ],
        [
         "30",
         "15 Park Avenue",
         "(2005)",
         "116 min",
         "Drama",
         "7.1",
         "1,002",
         "Aparna Sen",
         "Shabana Azmi",
         "Konkona Sen Sharma",
         "Rahul Bose"
        ],
        [
         "31",
         "150 Seconds Ago",
         "(2002)",
         "112 min",
         null,
         null,
         null,
         "Batul Mukhtiar",
         null,
         null,
         null
        ],
        [
         "32",
         "15th August",
         "(1993)",
         "168 min",
         "Drama",
         "5.6",
         "15",
         "Vicky Ranawat",
         "Ronit Roy",
         "Tisca Chopra",
         "Shakti Kapoor"
        ],
        [
         "33",
         "16 December",
         "(2002)",
         "158 min",
         "Action, Thriller",
         "6.9",
         "1,235",
         "Mani Shankar",
         "Milind Soman",
         "Danny Denzongpa",
         "Gulshan Grover"
        ],
        [
         "34",
         "18.11",
         "(2014)",
         "126 min",
         "Action",
         "3.5",
         "10",
         "Mohibul Haque",
         "Rehal Khan",
         "Gulshan Grover",
         "Mukesh Tiwari"
        ],
        [
         "35",
         "1857",
         "(1946)",
         null,
         "Drama, History",
         "5.0",
         "8",
         "Mohan Sinha",
         "Nigar Sultana",
         "Suraiya",
         "Menaka Devi"
        ],
        [
         "36",
         "19 Revolutions",
         "(2004)",
         "94 min",
         "Drama",
         "4.5",
         "16",
         "Sridhar Reddy",
         "Tarun Arora",
         "Gulshan Grover",
         "Vinay Pandey"
        ],
        [
         "37",
         "1911",
         null,
         null,
         "Drama, History, Sport",
         null,
         null,
         "Nikkhil Advani",
         "John Abraham",
         null,
         null
        ],
        [
         "38",
         "1920",
         "(2008)",
         "138 min",
         "Horror, Mystery, Romance",
         "6.4",
         "3,100",
         "Vikram Bhatt",
         "Rajniesh Duggall",
         "Adah Sharma",
         "Anjori Alagh"
        ],
        [
         "39",
         "1920 London",
         "(2016)",
         "120 min",
         "Horror, Mystery",
         "4.1",
         "1,559",
         "Dharmendra Suresh Desai",
         "Sharman Joshi",
         "Meera Chopra",
         "Vishal Karwal"
        ],
        [
         "40",
         "1920: Evil Returns",
         "(2012)",
         "124 min",
         "Drama, Horror, Romance",
         "4.8",
         "1,811",
         "Bhushan Patel",
         "Vicky Ahuja",
         "Tia Bajpai",
         "Tarakesh Chauhan"
        ],
        [
         "41",
         "1921",
         "(2018)",
         "144 min",
         "Horror, Mystery, Romance",
         "4.5",
         "1,069",
         "Vikram Bhatt",
         "Zareen Khan",
         "Karan Kundra",
         "Vikram Bhatt"
        ],
        [
         "42",
         "1942: A Love Story",
         "(1994)",
         "157 min",
         "Action, Drama, History",
         "7.2",
         "3,223",
         "Vidhu Vinod Chopra",
         "Anil Kapoor",
         "Jackie Shroff",
         "Manisha Koirala"
        ],
        [
         "43",
         "1971",
         "(2007)",
         "136 min",
         "Action, Drama, War",
         "8.1",
         "1,892",
         "Amrit Sagar",
         "Manoj Bajpayee",
         "Ravi Kishan",
         "Deepak Dobriyal"
        ],
        [
         "44",
         "1978: A Teen Night Out",
         "(2019)",
         "107 min",
         "Thriller",
         "4.0",
         "20",
         "Aziz Zee",
         "Abuzar Akhtar",
         "Apurva Godbole",
         "Vaishnavi Kadam"
        ],
        [
         "45",
         "1982 - A Love Marriage",
         "(2017)",
         "113 min",
         "Comedy",
         "5.5",
         "106",
         "Prashant Gore",
         "Amitkumar Sharma",
         "Omna",
         "Rita Agarwal"
        ],
        [
         "46",
         "19th January",
         "(2014)",
         null,
         "Drama",
         "7.3",
         "16",
         "Sanjay Amar",
         "Mumtaz Ahmed",
         "Bidita Bag",
         "Madhuri Bhatia"
        ],
        [
         "47",
         "2 Band Radio",
         "(2019)",
         null,
         "Comedy",
         null,
         null,
         "Saki Shah",
         "Bilal Ahamad Bhagat",
         "Neelu Dogra",
         "Rahat Kazmi"
        ],
        [
         "48",
         "2 GB Ki Life",
         null,
         null,
         "Drama",
         null,
         null,
         null,
         null,
         null,
         null
        ],
        [
         "49",
         "2 Little Indians",
         "(2013)",
         null,
         "Comedy, Family",
         "5.6",
         "14",
         "Ravi Bhatia",
         "Ravi Bhatia",
         "Ronak Bhatia",
         "Kamal Chopra"
        ]
       ],
       "shape": {
        "columns": 10,
        "rows": 15509
       }
      },
      "text/html": [
       "<div>\n",
       "<style scoped>\n",
       "    .dataframe tbody tr th:only-of-type {\n",
       "        vertical-align: middle;\n",
       "    }\n",
       "\n",
       "    .dataframe tbody tr th {\n",
       "        vertical-align: top;\n",
       "    }\n",
       "\n",
       "    .dataframe thead th {\n",
       "        text-align: right;\n",
       "    }\n",
       "</style>\n",
       "<table border=\"1\" class=\"dataframe\">\n",
       "  <thead>\n",
       "    <tr style=\"text-align: right;\">\n",
       "      <th></th>\n",
       "      <th>Name</th>\n",
       "      <th>Year</th>\n",
       "      <th>Duration</th>\n",
       "      <th>Genre</th>\n",
       "      <th>Rating</th>\n",
       "      <th>Votes</th>\n",
       "      <th>Director</th>\n",
       "      <th>Actor 1</th>\n",
       "      <th>Actor 2</th>\n",
       "      <th>Actor 3</th>\n",
       "    </tr>\n",
       "  </thead>\n",
       "  <tbody>\n",
       "    <tr>\n",
       "      <th>0</th>\n",
       "      <td></td>\n",
       "      <td>NaN</td>\n",
       "      <td>NaN</td>\n",
       "      <td>Drama</td>\n",
       "      <td>NaN</td>\n",
       "      <td>NaN</td>\n",
       "      <td>J.S. Randhawa</td>\n",
       "      <td>Manmauji</td>\n",
       "      <td>Birbal</td>\n",
       "      <td>Rajendra Bhatia</td>\n",
       "    </tr>\n",
       "    <tr>\n",
       "      <th>1</th>\n",
       "      <td>#Gadhvi (He thought he was Gandhi)</td>\n",
       "      <td>(2019)</td>\n",
       "      <td>109 min</td>\n",
       "      <td>Drama</td>\n",
       "      <td>7.0</td>\n",
       "      <td>8</td>\n",
       "      <td>Gaurav Bakshi</td>\n",
       "      <td>Rasika Dugal</td>\n",
       "      <td>Vivek Ghamande</td>\n",
       "      <td>Arvind Jangid</td>\n",
       "    </tr>\n",
       "    <tr>\n",
       "      <th>2</th>\n",
       "      <td>#Homecoming</td>\n",
       "      <td>(2021)</td>\n",
       "      <td>90 min</td>\n",
       "      <td>Drama, Musical</td>\n",
       "      <td>NaN</td>\n",
       "      <td>NaN</td>\n",
       "      <td>Soumyajit Majumdar</td>\n",
       "      <td>Sayani Gupta</td>\n",
       "      <td>Plabita Borthakur</td>\n",
       "      <td>Roy Angana</td>\n",
       "    </tr>\n",
       "    <tr>\n",
       "      <th>3</th>\n",
       "      <td>#Yaaram</td>\n",
       "      <td>(2019)</td>\n",
       "      <td>110 min</td>\n",
       "      <td>Comedy, Romance</td>\n",
       "      <td>4.4</td>\n",
       "      <td>35</td>\n",
       "      <td>Ovais Khan</td>\n",
       "      <td>Prateik</td>\n",
       "      <td>Ishita Raj</td>\n",
       "      <td>Siddhant Kapoor</td>\n",
       "    </tr>\n",
       "    <tr>\n",
       "      <th>4</th>\n",
       "      <td>...And Once Again</td>\n",
       "      <td>(2010)</td>\n",
       "      <td>105 min</td>\n",
       "      <td>Drama</td>\n",
       "      <td>NaN</td>\n",
       "      <td>NaN</td>\n",
       "      <td>Amol Palekar</td>\n",
       "      <td>Rajat Kapoor</td>\n",
       "      <td>Rituparna Sengupta</td>\n",
       "      <td>Antara Mali</td>\n",
       "    </tr>\n",
       "    <tr>\n",
       "      <th>...</th>\n",
       "      <td>...</td>\n",
       "      <td>...</td>\n",
       "      <td>...</td>\n",
       "      <td>...</td>\n",
       "      <td>...</td>\n",
       "      <td>...</td>\n",
       "      <td>...</td>\n",
       "      <td>...</td>\n",
       "      <td>...</td>\n",
       "      <td>...</td>\n",
       "    </tr>\n",
       "    <tr>\n",
       "      <th>15504</th>\n",
       "      <td>Zulm Ko Jala Doonga</td>\n",
       "      <td>(1988)</td>\n",
       "      <td>NaN</td>\n",
       "      <td>Action</td>\n",
       "      <td>4.6</td>\n",
       "      <td>11</td>\n",
       "      <td>Mahendra Shah</td>\n",
       "      <td>Naseeruddin Shah</td>\n",
       "      <td>Sumeet Saigal</td>\n",
       "      <td>Suparna Anand</td>\n",
       "    </tr>\n",
       "    <tr>\n",
       "      <th>15505</th>\n",
       "      <td>Zulmi</td>\n",
       "      <td>(1999)</td>\n",
       "      <td>129 min</td>\n",
       "      <td>Action, Drama</td>\n",
       "      <td>4.5</td>\n",
       "      <td>655</td>\n",
       "      <td>Kuku Kohli</td>\n",
       "      <td>Akshay Kumar</td>\n",
       "      <td>Twinkle Khanna</td>\n",
       "      <td>Aruna Irani</td>\n",
       "    </tr>\n",
       "    <tr>\n",
       "      <th>15506</th>\n",
       "      <td>Zulmi Raj</td>\n",
       "      <td>(2005)</td>\n",
       "      <td>NaN</td>\n",
       "      <td>Action</td>\n",
       "      <td>NaN</td>\n",
       "      <td>NaN</td>\n",
       "      <td>Kiran Thej</td>\n",
       "      <td>Sangeeta Tiwari</td>\n",
       "      <td>NaN</td>\n",
       "      <td>NaN</td>\n",
       "    </tr>\n",
       "    <tr>\n",
       "      <th>15507</th>\n",
       "      <td>Zulmi Shikari</td>\n",
       "      <td>(1988)</td>\n",
       "      <td>NaN</td>\n",
       "      <td>Action</td>\n",
       "      <td>NaN</td>\n",
       "      <td>NaN</td>\n",
       "      <td>NaN</td>\n",
       "      <td>NaN</td>\n",
       "      <td>NaN</td>\n",
       "      <td>NaN</td>\n",
       "    </tr>\n",
       "    <tr>\n",
       "      <th>15508</th>\n",
       "      <td>Zulm-O-Sitam</td>\n",
       "      <td>(1998)</td>\n",
       "      <td>130 min</td>\n",
       "      <td>Action, Drama</td>\n",
       "      <td>6.2</td>\n",
       "      <td>20</td>\n",
       "      <td>K.C. Bokadia</td>\n",
       "      <td>Dharmendra</td>\n",
       "      <td>Jaya Prada</td>\n",
       "      <td>Arjun Sarja</td>\n",
       "    </tr>\n",
       "  </tbody>\n",
       "</table>\n",
       "<p>15509 rows × 10 columns</p>\n",
       "</div>"
      ],
      "text/plain": [
       "                                     Name    Year Duration            Genre  \\\n",
       "0                                             NaN      NaN            Drama   \n",
       "1      #Gadhvi (He thought he was Gandhi)  (2019)  109 min            Drama   \n",
       "2                             #Homecoming  (2021)   90 min   Drama, Musical   \n",
       "3                                 #Yaaram  (2019)  110 min  Comedy, Romance   \n",
       "4                       ...And Once Again  (2010)  105 min            Drama   \n",
       "...                                   ...     ...      ...              ...   \n",
       "15504                 Zulm Ko Jala Doonga  (1988)      NaN           Action   \n",
       "15505                               Zulmi  (1999)  129 min    Action, Drama   \n",
       "15506                           Zulmi Raj  (2005)      NaN           Action   \n",
       "15507                       Zulmi Shikari  (1988)      NaN           Action   \n",
       "15508                        Zulm-O-Sitam  (1998)  130 min    Action, Drama   \n",
       "\n",
       "       Rating Votes            Director           Actor 1             Actor 2  \\\n",
       "0         NaN   NaN       J.S. Randhawa          Manmauji              Birbal   \n",
       "1         7.0     8       Gaurav Bakshi      Rasika Dugal      Vivek Ghamande   \n",
       "2         NaN   NaN  Soumyajit Majumdar      Sayani Gupta   Plabita Borthakur   \n",
       "3         4.4    35          Ovais Khan           Prateik          Ishita Raj   \n",
       "4         NaN   NaN        Amol Palekar      Rajat Kapoor  Rituparna Sengupta   \n",
       "...       ...   ...                 ...               ...                 ...   \n",
       "15504     4.6    11       Mahendra Shah  Naseeruddin Shah       Sumeet Saigal   \n",
       "15505     4.5   655          Kuku Kohli      Akshay Kumar      Twinkle Khanna   \n",
       "15506     NaN   NaN          Kiran Thej   Sangeeta Tiwari                 NaN   \n",
       "15507     NaN   NaN                 NaN               NaN                 NaN   \n",
       "15508     6.2    20        K.C. Bokadia        Dharmendra          Jaya Prada   \n",
       "\n",
       "               Actor 3  \n",
       "0      Rajendra Bhatia  \n",
       "1        Arvind Jangid  \n",
       "2           Roy Angana  \n",
       "3      Siddhant Kapoor  \n",
       "4          Antara Mali  \n",
       "...                ...  \n",
       "15504    Suparna Anand  \n",
       "15505      Aruna Irani  \n",
       "15506              NaN  \n",
       "15507              NaN  \n",
       "15508      Arjun Sarja  \n",
       "\n",
       "[15509 rows x 10 columns]"
      ]
     },
     "execution_count": 39,
     "metadata": {},
     "output_type": "execute_result"
    }
   ],
   "source": [
    "dataset = pd.read_csv(\"IMDb Movies India.csv\", encoding='latin1')\n",
    "dataset"
   ]
  },
  {
   "cell_type": "code",
   "execution_count": 40,
   "metadata": {},
   "outputs": [
    {
     "data": {
      "application/vnd.microsoft.datawrangler.viewer.v0+json": {
       "columns": [
        {
         "name": "index",
         "rawType": "int64",
         "type": "integer"
        },
        {
         "name": "Name",
         "rawType": "object",
         "type": "string"
        },
        {
         "name": "Year",
         "rawType": "object",
         "type": "unknown"
        },
        {
         "name": "Duration",
         "rawType": "object",
         "type": "unknown"
        },
        {
         "name": "Genre",
         "rawType": "object",
         "type": "string"
        },
        {
         "name": "Rating",
         "rawType": "float64",
         "type": "float"
        },
        {
         "name": "Votes",
         "rawType": "object",
         "type": "unknown"
        },
        {
         "name": "Director",
         "rawType": "object",
         "type": "string"
        },
        {
         "name": "Actor 1",
         "rawType": "object",
         "type": "string"
        },
        {
         "name": "Actor 2",
         "rawType": "object",
         "type": "string"
        },
        {
         "name": "Actor 3",
         "rawType": "object",
         "type": "string"
        }
       ],
       "conversionMethod": "pd.DataFrame",
       "ref": "8e37b36b-7466-4312-b5b3-233803257579",
       "rows": [
        [
         "0",
         " ",
         null,
         null,
         "Drama",
         null,
         null,
         "J.S. Randhawa",
         "Manmauji",
         "Birbal",
         "Rajendra Bhatia"
        ],
        [
         "1",
         "#Gadhvi (He thought he was Gandhi)",
         "(2019)",
         "109 min",
         "Drama",
         "7.0",
         "8",
         "Gaurav Bakshi",
         "Rasika Dugal",
         "Vivek Ghamande",
         "Arvind Jangid"
        ],
        [
         "2",
         "#Homecoming",
         "(2021)",
         "90 min",
         "Drama, Musical",
         null,
         null,
         "Soumyajit Majumdar",
         "Sayani Gupta",
         "Plabita Borthakur",
         "Roy Angana"
        ],
        [
         "3",
         "#Yaaram",
         "(2019)",
         "110 min",
         "Comedy, Romance",
         "4.4",
         "35",
         "Ovais Khan",
         "Prateik",
         "Ishita Raj",
         "Siddhant Kapoor"
        ],
        [
         "4",
         "...And Once Again",
         "(2010)",
         "105 min",
         "Drama",
         null,
         null,
         "Amol Palekar",
         "Rajat Kapoor",
         "Rituparna Sengupta",
         "Antara Mali"
        ]
       ],
       "shape": {
        "columns": 10,
        "rows": 5
       }
      },
      "text/html": [
       "<div>\n",
       "<style scoped>\n",
       "    .dataframe tbody tr th:only-of-type {\n",
       "        vertical-align: middle;\n",
       "    }\n",
       "\n",
       "    .dataframe tbody tr th {\n",
       "        vertical-align: top;\n",
       "    }\n",
       "\n",
       "    .dataframe thead th {\n",
       "        text-align: right;\n",
       "    }\n",
       "</style>\n",
       "<table border=\"1\" class=\"dataframe\">\n",
       "  <thead>\n",
       "    <tr style=\"text-align: right;\">\n",
       "      <th></th>\n",
       "      <th>Name</th>\n",
       "      <th>Year</th>\n",
       "      <th>Duration</th>\n",
       "      <th>Genre</th>\n",
       "      <th>Rating</th>\n",
       "      <th>Votes</th>\n",
       "      <th>Director</th>\n",
       "      <th>Actor 1</th>\n",
       "      <th>Actor 2</th>\n",
       "      <th>Actor 3</th>\n",
       "    </tr>\n",
       "  </thead>\n",
       "  <tbody>\n",
       "    <tr>\n",
       "      <th>0</th>\n",
       "      <td></td>\n",
       "      <td>NaN</td>\n",
       "      <td>NaN</td>\n",
       "      <td>Drama</td>\n",
       "      <td>NaN</td>\n",
       "      <td>NaN</td>\n",
       "      <td>J.S. Randhawa</td>\n",
       "      <td>Manmauji</td>\n",
       "      <td>Birbal</td>\n",
       "      <td>Rajendra Bhatia</td>\n",
       "    </tr>\n",
       "    <tr>\n",
       "      <th>1</th>\n",
       "      <td>#Gadhvi (He thought he was Gandhi)</td>\n",
       "      <td>(2019)</td>\n",
       "      <td>109 min</td>\n",
       "      <td>Drama</td>\n",
       "      <td>7.0</td>\n",
       "      <td>8</td>\n",
       "      <td>Gaurav Bakshi</td>\n",
       "      <td>Rasika Dugal</td>\n",
       "      <td>Vivek Ghamande</td>\n",
       "      <td>Arvind Jangid</td>\n",
       "    </tr>\n",
       "    <tr>\n",
       "      <th>2</th>\n",
       "      <td>#Homecoming</td>\n",
       "      <td>(2021)</td>\n",
       "      <td>90 min</td>\n",
       "      <td>Drama, Musical</td>\n",
       "      <td>NaN</td>\n",
       "      <td>NaN</td>\n",
       "      <td>Soumyajit Majumdar</td>\n",
       "      <td>Sayani Gupta</td>\n",
       "      <td>Plabita Borthakur</td>\n",
       "      <td>Roy Angana</td>\n",
       "    </tr>\n",
       "    <tr>\n",
       "      <th>3</th>\n",
       "      <td>#Yaaram</td>\n",
       "      <td>(2019)</td>\n",
       "      <td>110 min</td>\n",
       "      <td>Comedy, Romance</td>\n",
       "      <td>4.4</td>\n",
       "      <td>35</td>\n",
       "      <td>Ovais Khan</td>\n",
       "      <td>Prateik</td>\n",
       "      <td>Ishita Raj</td>\n",
       "      <td>Siddhant Kapoor</td>\n",
       "    </tr>\n",
       "    <tr>\n",
       "      <th>4</th>\n",
       "      <td>...And Once Again</td>\n",
       "      <td>(2010)</td>\n",
       "      <td>105 min</td>\n",
       "      <td>Drama</td>\n",
       "      <td>NaN</td>\n",
       "      <td>NaN</td>\n",
       "      <td>Amol Palekar</td>\n",
       "      <td>Rajat Kapoor</td>\n",
       "      <td>Rituparna Sengupta</td>\n",
       "      <td>Antara Mali</td>\n",
       "    </tr>\n",
       "  </tbody>\n",
       "</table>\n",
       "</div>"
      ],
      "text/plain": [
       "                                 Name    Year Duration            Genre  \\\n",
       "0                                         NaN      NaN            Drama   \n",
       "1  #Gadhvi (He thought he was Gandhi)  (2019)  109 min            Drama   \n",
       "2                         #Homecoming  (2021)   90 min   Drama, Musical   \n",
       "3                             #Yaaram  (2019)  110 min  Comedy, Romance   \n",
       "4                   ...And Once Again  (2010)  105 min            Drama   \n",
       "\n",
       "   Rating Votes            Director       Actor 1             Actor 2  \\\n",
       "0     NaN   NaN       J.S. Randhawa      Manmauji              Birbal   \n",
       "1     7.0     8       Gaurav Bakshi  Rasika Dugal      Vivek Ghamande   \n",
       "2     NaN   NaN  Soumyajit Majumdar  Sayani Gupta   Plabita Borthakur   \n",
       "3     4.4    35          Ovais Khan       Prateik          Ishita Raj   \n",
       "4     NaN   NaN        Amol Palekar  Rajat Kapoor  Rituparna Sengupta   \n",
       "\n",
       "           Actor 3  \n",
       "0  Rajendra Bhatia  \n",
       "1    Arvind Jangid  \n",
       "2       Roy Angana  \n",
       "3  Siddhant Kapoor  \n",
       "4      Antara Mali  "
      ]
     },
     "execution_count": 40,
     "metadata": {},
     "output_type": "execute_result"
    }
   ],
   "source": [
    "dataset.head()"
   ]
  },
  {
   "cell_type": "code",
   "execution_count": 41,
   "metadata": {},
   "outputs": [
    {
     "name": "stdout",
     "output_type": "stream",
     "text": [
      "<class 'pandas.core.frame.DataFrame'>\n",
      "RangeIndex: 15509 entries, 0 to 15508\n",
      "Data columns (total 10 columns):\n",
      " #   Column    Non-Null Count  Dtype  \n",
      "---  ------    --------------  -----  \n",
      " 0   Name      15509 non-null  object \n",
      " 1   Year      14981 non-null  object \n",
      " 2   Duration  7240 non-null   object \n",
      " 3   Genre     13632 non-null  object \n",
      " 4   Rating    7919 non-null   float64\n",
      " 5   Votes     7920 non-null   object \n",
      " 6   Director  14984 non-null  object \n",
      " 7   Actor 1   13892 non-null  object \n",
      " 8   Actor 2   13125 non-null  object \n",
      " 9   Actor 3   12365 non-null  object \n",
      "dtypes: float64(1), object(9)\n",
      "memory usage: 1.2+ MB\n"
     ]
    }
   ],
   "source": [
    "dataset.info()"
   ]
  },
  {
   "cell_type": "code",
   "execution_count": 42,
   "metadata": {},
   "outputs": [
    {
     "data": {
      "application/vnd.microsoft.datawrangler.viewer.v0+json": {
       "columns": [
        {
         "name": "index",
         "rawType": "object",
         "type": "string"
        },
        {
         "name": "Rating",
         "rawType": "float64",
         "type": "float"
        }
       ],
       "conversionMethod": "pd.DataFrame",
       "ref": "2f5b4408-7653-40a3-af5a-1d1d729f3706",
       "rows": [
        [
         "count",
         "7919.0"
        ],
        [
         "mean",
         "5.841621416845562"
        ],
        [
         "std",
         "1.3817771548659665"
        ],
        [
         "min",
         "1.1"
        ],
        [
         "25%",
         "4.9"
        ],
        [
         "50%",
         "6.0"
        ],
        [
         "75%",
         "6.8"
        ],
        [
         "max",
         "10.0"
        ]
       ],
       "shape": {
        "columns": 1,
        "rows": 8
       }
      },
      "text/html": [
       "<div>\n",
       "<style scoped>\n",
       "    .dataframe tbody tr th:only-of-type {\n",
       "        vertical-align: middle;\n",
       "    }\n",
       "\n",
       "    .dataframe tbody tr th {\n",
       "        vertical-align: top;\n",
       "    }\n",
       "\n",
       "    .dataframe thead th {\n",
       "        text-align: right;\n",
       "    }\n",
       "</style>\n",
       "<table border=\"1\" class=\"dataframe\">\n",
       "  <thead>\n",
       "    <tr style=\"text-align: right;\">\n",
       "      <th></th>\n",
       "      <th>Rating</th>\n",
       "    </tr>\n",
       "  </thead>\n",
       "  <tbody>\n",
       "    <tr>\n",
       "      <th>count</th>\n",
       "      <td>7919.000000</td>\n",
       "    </tr>\n",
       "    <tr>\n",
       "      <th>mean</th>\n",
       "      <td>5.841621</td>\n",
       "    </tr>\n",
       "    <tr>\n",
       "      <th>std</th>\n",
       "      <td>1.381777</td>\n",
       "    </tr>\n",
       "    <tr>\n",
       "      <th>min</th>\n",
       "      <td>1.100000</td>\n",
       "    </tr>\n",
       "    <tr>\n",
       "      <th>25%</th>\n",
       "      <td>4.900000</td>\n",
       "    </tr>\n",
       "    <tr>\n",
       "      <th>50%</th>\n",
       "      <td>6.000000</td>\n",
       "    </tr>\n",
       "    <tr>\n",
       "      <th>75%</th>\n",
       "      <td>6.800000</td>\n",
       "    </tr>\n",
       "    <tr>\n",
       "      <th>max</th>\n",
       "      <td>10.000000</td>\n",
       "    </tr>\n",
       "  </tbody>\n",
       "</table>\n",
       "</div>"
      ],
      "text/plain": [
       "            Rating\n",
       "count  7919.000000\n",
       "mean      5.841621\n",
       "std       1.381777\n",
       "min       1.100000\n",
       "25%       4.900000\n",
       "50%       6.000000\n",
       "75%       6.800000\n",
       "max      10.000000"
      ]
     },
     "execution_count": 42,
     "metadata": {},
     "output_type": "execute_result"
    }
   ],
   "source": [
    "dataset.describe()"
   ]
  },
  {
   "cell_type": "code",
   "execution_count": 43,
   "metadata": {},
   "outputs": [
    {
     "data": {
      "text/plain": [
       "Name           0\n",
       "Year         528\n",
       "Duration    8269\n",
       "Genre       1877\n",
       "Rating      7590\n",
       "Votes       7589\n",
       "Director     525\n",
       "Actor 1     1617\n",
       "Actor 2     2384\n",
       "Actor 3     3144\n",
       "dtype: int64"
      ]
     },
     "execution_count": 43,
     "metadata": {},
     "output_type": "execute_result"
    }
   ],
   "source": [
    "dataset.isnull().sum()"
   ]
  },
  {
   "cell_type": "code",
   "execution_count": 44,
   "metadata": {},
   "outputs": [],
   "source": [
    "dataset.dropna(subset = [\"Actor 1\", \"Actor 2\", \"Actor 3\", \"Rating\", \"Director\", \"Genre\"], inplace=True)"
   ]
  },
  {
   "cell_type": "code",
   "execution_count": 45,
   "metadata": {},
   "outputs": [
    {
     "data": {
      "text/plain": [
       "Name           0\n",
       "Year           0\n",
       "Duration    1899\n",
       "Genre          0\n",
       "Rating         0\n",
       "Votes          0\n",
       "Director       0\n",
       "Actor 1        0\n",
       "Actor 2        0\n",
       "Actor 3        0\n",
       "dtype: int64"
      ]
     },
     "execution_count": 45,
     "metadata": {},
     "output_type": "execute_result"
    }
   ],
   "source": [
    "dataset.isnull().sum()"
   ]
  },
  {
   "cell_type": "code",
   "execution_count": 46,
   "metadata": {},
   "outputs": [
    {
     "data": {
      "application/vnd.microsoft.datawrangler.viewer.v0+json": {
       "columns": [
        {
         "name": "index",
         "rawType": "int64",
         "type": "integer"
        },
        {
         "name": "Name",
         "rawType": "object",
         "type": "string"
        },
        {
         "name": "Year",
         "rawType": "object",
         "type": "string"
        },
        {
         "name": "Duration",
         "rawType": "object",
         "type": "string"
        },
        {
         "name": "Genre",
         "rawType": "object",
         "type": "string"
        },
        {
         "name": "Rating",
         "rawType": "float64",
         "type": "float"
        },
        {
         "name": "Votes",
         "rawType": "object",
         "type": "string"
        },
        {
         "name": "Director",
         "rawType": "object",
         "type": "string"
        },
        {
         "name": "Actor 1",
         "rawType": "object",
         "type": "string"
        },
        {
         "name": "Actor 2",
         "rawType": "object",
         "type": "string"
        },
        {
         "name": "Actor 3",
         "rawType": "object",
         "type": "string"
        }
       ],
       "conversionMethod": "pd.DataFrame",
       "ref": "a5b6d23d-d911-455f-92bf-c52201d50447",
       "rows": [
        [
         "1",
         "#Gadhvi (He thought he was Gandhi)",
         "(2019)",
         "109 min",
         "Drama",
         "7.0",
         "8",
         "Gaurav Bakshi",
         "Rasika Dugal",
         "Vivek Ghamande",
         "Arvind Jangid"
        ],
        [
         "3",
         "#Yaaram",
         "(2019)",
         "110 min",
         "Comedy, Romance",
         "4.4",
         "35",
         "Ovais Khan",
         "Prateik",
         "Ishita Raj",
         "Siddhant Kapoor"
        ],
        [
         "5",
         "...Aur Pyaar Ho Gaya",
         "(1997)",
         "147 min",
         "Comedy, Drama, Musical",
         "4.7",
         "827",
         "Rahul Rawail",
         "Bobby Deol",
         "Aishwarya Rai Bachchan",
         "Shammi Kapoor"
        ],
        [
         "6",
         "...Yahaan",
         "(2005)",
         "142 min",
         "Drama, Romance, War",
         "7.4",
         "1,086",
         "Shoojit Sircar",
         "Jimmy Sheirgill",
         "Minissha Lamba",
         "Yashpal Sharma"
        ],
        [
         "8",
         "?: A Question Mark",
         "(2012)",
         "82 min",
         "Horror, Mystery, Thriller",
         "5.6",
         "326",
         "Allyson Patel",
         "Yash Dave",
         "Muntazir Ahmad",
         "Kiran Bhatia"
        ]
       ],
       "shape": {
        "columns": 10,
        "rows": 5
       }
      },
      "text/html": [
       "<div>\n",
       "<style scoped>\n",
       "    .dataframe tbody tr th:only-of-type {\n",
       "        vertical-align: middle;\n",
       "    }\n",
       "\n",
       "    .dataframe tbody tr th {\n",
       "        vertical-align: top;\n",
       "    }\n",
       "\n",
       "    .dataframe thead th {\n",
       "        text-align: right;\n",
       "    }\n",
       "</style>\n",
       "<table border=\"1\" class=\"dataframe\">\n",
       "  <thead>\n",
       "    <tr style=\"text-align: right;\">\n",
       "      <th></th>\n",
       "      <th>Name</th>\n",
       "      <th>Year</th>\n",
       "      <th>Duration</th>\n",
       "      <th>Genre</th>\n",
       "      <th>Rating</th>\n",
       "      <th>Votes</th>\n",
       "      <th>Director</th>\n",
       "      <th>Actor 1</th>\n",
       "      <th>Actor 2</th>\n",
       "      <th>Actor 3</th>\n",
       "    </tr>\n",
       "  </thead>\n",
       "  <tbody>\n",
       "    <tr>\n",
       "      <th>1</th>\n",
       "      <td>#Gadhvi (He thought he was Gandhi)</td>\n",
       "      <td>(2019)</td>\n",
       "      <td>109 min</td>\n",
       "      <td>Drama</td>\n",
       "      <td>7.0</td>\n",
       "      <td>8</td>\n",
       "      <td>Gaurav Bakshi</td>\n",
       "      <td>Rasika Dugal</td>\n",
       "      <td>Vivek Ghamande</td>\n",
       "      <td>Arvind Jangid</td>\n",
       "    </tr>\n",
       "    <tr>\n",
       "      <th>3</th>\n",
       "      <td>#Yaaram</td>\n",
       "      <td>(2019)</td>\n",
       "      <td>110 min</td>\n",
       "      <td>Comedy, Romance</td>\n",
       "      <td>4.4</td>\n",
       "      <td>35</td>\n",
       "      <td>Ovais Khan</td>\n",
       "      <td>Prateik</td>\n",
       "      <td>Ishita Raj</td>\n",
       "      <td>Siddhant Kapoor</td>\n",
       "    </tr>\n",
       "    <tr>\n",
       "      <th>5</th>\n",
       "      <td>...Aur Pyaar Ho Gaya</td>\n",
       "      <td>(1997)</td>\n",
       "      <td>147 min</td>\n",
       "      <td>Comedy, Drama, Musical</td>\n",
       "      <td>4.7</td>\n",
       "      <td>827</td>\n",
       "      <td>Rahul Rawail</td>\n",
       "      <td>Bobby Deol</td>\n",
       "      <td>Aishwarya Rai Bachchan</td>\n",
       "      <td>Shammi Kapoor</td>\n",
       "    </tr>\n",
       "    <tr>\n",
       "      <th>6</th>\n",
       "      <td>...Yahaan</td>\n",
       "      <td>(2005)</td>\n",
       "      <td>142 min</td>\n",
       "      <td>Drama, Romance, War</td>\n",
       "      <td>7.4</td>\n",
       "      <td>1,086</td>\n",
       "      <td>Shoojit Sircar</td>\n",
       "      <td>Jimmy Sheirgill</td>\n",
       "      <td>Minissha Lamba</td>\n",
       "      <td>Yashpal Sharma</td>\n",
       "    </tr>\n",
       "    <tr>\n",
       "      <th>8</th>\n",
       "      <td>?: A Question Mark</td>\n",
       "      <td>(2012)</td>\n",
       "      <td>82 min</td>\n",
       "      <td>Horror, Mystery, Thriller</td>\n",
       "      <td>5.6</td>\n",
       "      <td>326</td>\n",
       "      <td>Allyson Patel</td>\n",
       "      <td>Yash Dave</td>\n",
       "      <td>Muntazir Ahmad</td>\n",
       "      <td>Kiran Bhatia</td>\n",
       "    </tr>\n",
       "  </tbody>\n",
       "</table>\n",
       "</div>"
      ],
      "text/plain": [
       "                                 Name    Year Duration  \\\n",
       "1  #Gadhvi (He thought he was Gandhi)  (2019)  109 min   \n",
       "3                             #Yaaram  (2019)  110 min   \n",
       "5                ...Aur Pyaar Ho Gaya  (1997)  147 min   \n",
       "6                           ...Yahaan  (2005)  142 min   \n",
       "8                  ?: A Question Mark  (2012)   82 min   \n",
       "\n",
       "                       Genre  Rating  Votes        Director          Actor 1  \\\n",
       "1                      Drama     7.0      8   Gaurav Bakshi     Rasika Dugal   \n",
       "3            Comedy, Romance     4.4     35      Ovais Khan          Prateik   \n",
       "5     Comedy, Drama, Musical     4.7    827    Rahul Rawail       Bobby Deol   \n",
       "6        Drama, Romance, War     7.4  1,086  Shoojit Sircar  Jimmy Sheirgill   \n",
       "8  Horror, Mystery, Thriller     5.6    326   Allyson Patel        Yash Dave   \n",
       "\n",
       "                  Actor 2          Actor 3  \n",
       "1          Vivek Ghamande    Arvind Jangid  \n",
       "3              Ishita Raj  Siddhant Kapoor  \n",
       "5  Aishwarya Rai Bachchan    Shammi Kapoor  \n",
       "6          Minissha Lamba   Yashpal Sharma  \n",
       "8          Muntazir Ahmad     Kiran Bhatia  "
      ]
     },
     "execution_count": 46,
     "metadata": {},
     "output_type": "execute_result"
    }
   ],
   "source": [
    "dataset.head()"
   ]
  },
  {
   "cell_type": "code",
   "execution_count": 47,
   "metadata": {},
   "outputs": [],
   "source": [
    "dataset[\"Votes\"] = dataset[\"Votes\"].str.replace(\",\", \"\").astype(float)"
   ]
  },
  {
   "cell_type": "code",
   "execution_count": 48,
   "metadata": {},
   "outputs": [],
   "source": [
    "dataset[\"Year\"] = dataset[\"Year\"].str.strip(\"()\").astype(float)"
   ]
  },
  {
   "cell_type": "code",
   "execution_count": 49,
   "metadata": {},
   "outputs": [],
   "source": [
    "dataset[\"Duration\"] = dataset[\"Duration\"].str.strip('min')"
   ]
  },
  {
   "cell_type": "code",
   "execution_count": 50,
   "metadata": {},
   "outputs": [
    {
     "name": "stderr",
     "output_type": "stream",
     "text": [
      "C:\\Users\\sagni\\AppData\\Local\\Temp\\ipykernel_19184\\785889605.py:2: FutureWarning: A value is trying to be set on a copy of a DataFrame or Series through chained assignment using an inplace method.\n",
      "The behavior will change in pandas 3.0. This inplace method will never work because the intermediate object on which we are setting values always behaves as a copy.\n",
      "\n",
      "For example, when doing 'df[col].method(value, inplace=True)', try using 'df.method({col: value}, inplace=True)' or df[col] = df[col].method(value) instead, to perform the operation inplace on the original object.\n",
      "\n",
      "\n",
      "  dataset[\"Duration\"].fillna(dataset[\"Duration\"].median(), inplace=True)\n"
     ]
    }
   ],
   "source": [
    "dataset[\"Duration\"] = pd.to_numeric(dataset[\"Duration\"], errors='coerce')\n",
    "dataset[\"Duration\"].fillna(dataset[\"Duration\"].median(), inplace=True)"
   ]
  },
  {
   "cell_type": "code",
   "execution_count": 51,
   "metadata": {},
   "outputs": [
    {
     "data": {
      "text/plain": [
       "Name        0\n",
       "Year        0\n",
       "Duration    0\n",
       "Genre       0\n",
       "Rating      0\n",
       "Votes       0\n",
       "Director    0\n",
       "Actor 1     0\n",
       "Actor 2     0\n",
       "Actor 3     0\n",
       "dtype: int64"
      ]
     },
     "execution_count": 51,
     "metadata": {},
     "output_type": "execute_result"
    }
   ],
   "source": [
    "dataset.isnull().sum()"
   ]
  },
  {
   "cell_type": "code",
   "execution_count": 52,
   "metadata": {},
   "outputs": [
    {
     "name": "stdout",
     "output_type": "stream",
     "text": [
      "<class 'pandas.core.frame.DataFrame'>\n",
      "Index: 7558 entries, 1 to 15508\n",
      "Data columns (total 10 columns):\n",
      " #   Column    Non-Null Count  Dtype  \n",
      "---  ------    --------------  -----  \n",
      " 0   Name      7558 non-null   object \n",
      " 1   Year      7558 non-null   float64\n",
      " 2   Duration  7558 non-null   float64\n",
      " 3   Genre     7558 non-null   object \n",
      " 4   Rating    7558 non-null   float64\n",
      " 5   Votes     7558 non-null   float64\n",
      " 6   Director  7558 non-null   object \n",
      " 7   Actor 1   7558 non-null   object \n",
      " 8   Actor 2   7558 non-null   object \n",
      " 9   Actor 3   7558 non-null   object \n",
      "dtypes: float64(4), object(6)\n",
      "memory usage: 649.5+ KB\n"
     ]
    }
   ],
   "source": [
    "dataset.info()"
   ]
  },
  {
   "cell_type": "code",
   "execution_count": 53,
   "metadata": {},
   "outputs": [
    {
     "data": {
      "application/vnd.microsoft.datawrangler.viewer.v0+json": {
       "columns": [
        {
         "name": "index",
         "rawType": "int64",
         "type": "integer"
        },
        {
         "name": "Name",
         "rawType": "object",
         "type": "string"
        },
        {
         "name": "Year",
         "rawType": "float64",
         "type": "float"
        },
        {
         "name": "Duration",
         "rawType": "float64",
         "type": "float"
        },
        {
         "name": "Genre",
         "rawType": "object",
         "type": "string"
        },
        {
         "name": "Rating",
         "rawType": "float64",
         "type": "float"
        },
        {
         "name": "Votes",
         "rawType": "float64",
         "type": "float"
        },
        {
         "name": "Director",
         "rawType": "object",
         "type": "string"
        },
        {
         "name": "Actor 1",
         "rawType": "object",
         "type": "string"
        },
        {
         "name": "Actor 2",
         "rawType": "object",
         "type": "string"
        },
        {
         "name": "Actor 3",
         "rawType": "object",
         "type": "string"
        }
       ],
       "conversionMethod": "pd.DataFrame",
       "ref": "125a9643-c9d4-485d-b7a4-7b4b56a46a4c",
       "rows": [
        [
         "8339",
         "Love Qubool Hai",
         "2020.0",
         "94.0",
         "Drama, Romance",
         "10.0",
         "5.0",
         "Saif Ali Sayeed",
         "Ahaan Jha",
         "Mahesh Narayan",
         "Rajasree Rajakumari"
        ],
        [
         "5410",
         "Half Songs",
         "2021.0",
         "79.0",
         "Music, Romance",
         "9.7",
         "7.0",
         "Sriram Raja",
         "Raj Banerjee",
         "Emon Chatterjee",
         "Purshottam Mulani"
        ],
        [
         "2563",
         "Breed",
         "2020.0",
         "135.0",
         "Drama",
         "9.6",
         "48.0",
         "Bobby Kumar",
         "Bobby Kumar",
         "Ashfaq",
         "Fasih Choudhry"
        ],
        [
         "14222",
         "The Reluctant Crime",
         "2020.0",
         "113.0",
         "Drama",
         "9.4",
         "16.0",
         "Arvind Pratap",
         "Dharmendra Ahir",
         "Awanish Kotnal",
         "Rakhi Mansha"
        ],
        [
         "5077",
         "Gho Gho Rani",
         "2019.0",
         "105.0",
         "History, Romance",
         "9.4",
         "47.0",
         "Munni Pankaj",
         "Nishi Neha Mishra",
         "Pankaj Kamal",
         "Akash Kumar"
        ],
        [
         "6852",
         "June",
         "2021.0",
         "93.0",
         "Drama",
         "9.4",
         "18.0",
         "Suhrud Godbole",
         "Vaibhav Khisti",
         "Nilesh Divekar",
         "Jitendra Joshi"
        ],
        [
         "1314",
         "Ashok Vatika",
         "2018.0",
         "97.0",
         "Drama",
         "9.3",
         "7.0",
         "Rahul Mallick",
         "Kunj Anand",
         "Sanjay Bishnoi",
         "Paras Zutshi"
        ],
        [
         "5125",
         "God of gods",
         "2019.0",
         "90.0",
         "Documentary",
         "9.3",
         "46.0",
         "Venkatesh Bk",
         "Tejaswini Manogna",
         "Triyug Mantri",
         "Raj Singh Verma"
        ],
        [
         "11843",
         "Refl3ct",
         "2021.0",
         "65.0",
         "Sci-Fi",
         "9.3",
         "467.0",
         "Nikhil Mahar",
         "Vijay Mahar",
         "Vijay Mahar",
         "Nikhil Mahar"
        ],
        [
         "8344",
         "Love Sorries",
         "2021.0",
         "101.0",
         "Comedy, Drama, Romance",
         "9.3",
         "79.0",
         "Gautam Joshi",
         "Prashant Chaubey",
         "Puneet Chouksey",
         "Amitabh Gupta"
        ]
       ],
       "shape": {
        "columns": 10,
        "rows": 10
       }
      },
      "text/html": [
       "<div>\n",
       "<style scoped>\n",
       "    .dataframe tbody tr th:only-of-type {\n",
       "        vertical-align: middle;\n",
       "    }\n",
       "\n",
       "    .dataframe tbody tr th {\n",
       "        vertical-align: top;\n",
       "    }\n",
       "\n",
       "    .dataframe thead th {\n",
       "        text-align: right;\n",
       "    }\n",
       "</style>\n",
       "<table border=\"1\" class=\"dataframe\">\n",
       "  <thead>\n",
       "    <tr style=\"text-align: right;\">\n",
       "      <th></th>\n",
       "      <th>Name</th>\n",
       "      <th>Year</th>\n",
       "      <th>Duration</th>\n",
       "      <th>Genre</th>\n",
       "      <th>Rating</th>\n",
       "      <th>Votes</th>\n",
       "      <th>Director</th>\n",
       "      <th>Actor 1</th>\n",
       "      <th>Actor 2</th>\n",
       "      <th>Actor 3</th>\n",
       "    </tr>\n",
       "  </thead>\n",
       "  <tbody>\n",
       "    <tr>\n",
       "      <th>8339</th>\n",
       "      <td>Love Qubool Hai</td>\n",
       "      <td>2020.0</td>\n",
       "      <td>94.0</td>\n",
       "      <td>Drama, Romance</td>\n",
       "      <td>10.0</td>\n",
       "      <td>5.0</td>\n",
       "      <td>Saif Ali Sayeed</td>\n",
       "      <td>Ahaan Jha</td>\n",
       "      <td>Mahesh Narayan</td>\n",
       "      <td>Rajasree Rajakumari</td>\n",
       "    </tr>\n",
       "    <tr>\n",
       "      <th>5410</th>\n",
       "      <td>Half Songs</td>\n",
       "      <td>2021.0</td>\n",
       "      <td>79.0</td>\n",
       "      <td>Music, Romance</td>\n",
       "      <td>9.7</td>\n",
       "      <td>7.0</td>\n",
       "      <td>Sriram Raja</td>\n",
       "      <td>Raj Banerjee</td>\n",
       "      <td>Emon Chatterjee</td>\n",
       "      <td>Purshottam Mulani</td>\n",
       "    </tr>\n",
       "    <tr>\n",
       "      <th>2563</th>\n",
       "      <td>Breed</td>\n",
       "      <td>2020.0</td>\n",
       "      <td>135.0</td>\n",
       "      <td>Drama</td>\n",
       "      <td>9.6</td>\n",
       "      <td>48.0</td>\n",
       "      <td>Bobby Kumar</td>\n",
       "      <td>Bobby Kumar</td>\n",
       "      <td>Ashfaq</td>\n",
       "      <td>Fasih Choudhry</td>\n",
       "    </tr>\n",
       "    <tr>\n",
       "      <th>14222</th>\n",
       "      <td>The Reluctant Crime</td>\n",
       "      <td>2020.0</td>\n",
       "      <td>113.0</td>\n",
       "      <td>Drama</td>\n",
       "      <td>9.4</td>\n",
       "      <td>16.0</td>\n",
       "      <td>Arvind Pratap</td>\n",
       "      <td>Dharmendra Ahir</td>\n",
       "      <td>Awanish Kotnal</td>\n",
       "      <td>Rakhi Mansha</td>\n",
       "    </tr>\n",
       "    <tr>\n",
       "      <th>5077</th>\n",
       "      <td>Gho Gho Rani</td>\n",
       "      <td>2019.0</td>\n",
       "      <td>105.0</td>\n",
       "      <td>History, Romance</td>\n",
       "      <td>9.4</td>\n",
       "      <td>47.0</td>\n",
       "      <td>Munni Pankaj</td>\n",
       "      <td>Nishi Neha Mishra</td>\n",
       "      <td>Pankaj Kamal</td>\n",
       "      <td>Akash Kumar</td>\n",
       "    </tr>\n",
       "    <tr>\n",
       "      <th>6852</th>\n",
       "      <td>June</td>\n",
       "      <td>2021.0</td>\n",
       "      <td>93.0</td>\n",
       "      <td>Drama</td>\n",
       "      <td>9.4</td>\n",
       "      <td>18.0</td>\n",
       "      <td>Suhrud Godbole</td>\n",
       "      <td>Vaibhav Khisti</td>\n",
       "      <td>Nilesh Divekar</td>\n",
       "      <td>Jitendra Joshi</td>\n",
       "    </tr>\n",
       "    <tr>\n",
       "      <th>1314</th>\n",
       "      <td>Ashok Vatika</td>\n",
       "      <td>2018.0</td>\n",
       "      <td>97.0</td>\n",
       "      <td>Drama</td>\n",
       "      <td>9.3</td>\n",
       "      <td>7.0</td>\n",
       "      <td>Rahul Mallick</td>\n",
       "      <td>Kunj Anand</td>\n",
       "      <td>Sanjay Bishnoi</td>\n",
       "      <td>Paras Zutshi</td>\n",
       "    </tr>\n",
       "    <tr>\n",
       "      <th>5125</th>\n",
       "      <td>God of gods</td>\n",
       "      <td>2019.0</td>\n",
       "      <td>90.0</td>\n",
       "      <td>Documentary</td>\n",
       "      <td>9.3</td>\n",
       "      <td>46.0</td>\n",
       "      <td>Venkatesh Bk</td>\n",
       "      <td>Tejaswini Manogna</td>\n",
       "      <td>Triyug Mantri</td>\n",
       "      <td>Raj Singh Verma</td>\n",
       "    </tr>\n",
       "    <tr>\n",
       "      <th>11843</th>\n",
       "      <td>Refl3ct</td>\n",
       "      <td>2021.0</td>\n",
       "      <td>65.0</td>\n",
       "      <td>Sci-Fi</td>\n",
       "      <td>9.3</td>\n",
       "      <td>467.0</td>\n",
       "      <td>Nikhil Mahar</td>\n",
       "      <td>Vijay Mahar</td>\n",
       "      <td>Vijay Mahar</td>\n",
       "      <td>Nikhil Mahar</td>\n",
       "    </tr>\n",
       "    <tr>\n",
       "      <th>8344</th>\n",
       "      <td>Love Sorries</td>\n",
       "      <td>2021.0</td>\n",
       "      <td>101.0</td>\n",
       "      <td>Comedy, Drama, Romance</td>\n",
       "      <td>9.3</td>\n",
       "      <td>79.0</td>\n",
       "      <td>Gautam Joshi</td>\n",
       "      <td>Prashant Chaubey</td>\n",
       "      <td>Puneet Chouksey</td>\n",
       "      <td>Amitabh Gupta</td>\n",
       "    </tr>\n",
       "  </tbody>\n",
       "</table>\n",
       "</div>"
      ],
      "text/plain": [
       "                      Name    Year  Duration                   Genre  Rating  \\\n",
       "8339       Love Qubool Hai  2020.0      94.0          Drama, Romance    10.0   \n",
       "5410            Half Songs  2021.0      79.0          Music, Romance     9.7   \n",
       "2563                 Breed  2020.0     135.0                   Drama     9.6   \n",
       "14222  The Reluctant Crime  2020.0     113.0                   Drama     9.4   \n",
       "5077          Gho Gho Rani  2019.0     105.0        History, Romance     9.4   \n",
       "6852                  June  2021.0      93.0                   Drama     9.4   \n",
       "1314          Ashok Vatika  2018.0      97.0                   Drama     9.3   \n",
       "5125           God of gods  2019.0      90.0             Documentary     9.3   \n",
       "11843              Refl3ct  2021.0      65.0                  Sci-Fi     9.3   \n",
       "8344          Love Sorries  2021.0     101.0  Comedy, Drama, Romance     9.3   \n",
       "\n",
       "       Votes         Director            Actor 1          Actor 2  \\\n",
       "8339     5.0  Saif Ali Sayeed          Ahaan Jha   Mahesh Narayan   \n",
       "5410     7.0      Sriram Raja       Raj Banerjee  Emon Chatterjee   \n",
       "2563    48.0      Bobby Kumar        Bobby Kumar           Ashfaq   \n",
       "14222   16.0    Arvind Pratap    Dharmendra Ahir   Awanish Kotnal   \n",
       "5077    47.0     Munni Pankaj  Nishi Neha Mishra     Pankaj Kamal   \n",
       "6852    18.0   Suhrud Godbole     Vaibhav Khisti   Nilesh Divekar   \n",
       "1314     7.0    Rahul Mallick         Kunj Anand   Sanjay Bishnoi   \n",
       "5125    46.0     Venkatesh Bk  Tejaswini Manogna    Triyug Mantri   \n",
       "11843  467.0     Nikhil Mahar        Vijay Mahar      Vijay Mahar   \n",
       "8344    79.0     Gautam Joshi   Prashant Chaubey  Puneet Chouksey   \n",
       "\n",
       "                   Actor 3  \n",
       "8339   Rajasree Rajakumari  \n",
       "5410     Purshottam Mulani  \n",
       "2563        Fasih Choudhry  \n",
       "14222         Rakhi Mansha  \n",
       "5077           Akash Kumar  \n",
       "6852        Jitendra Joshi  \n",
       "1314          Paras Zutshi  \n",
       "5125       Raj Singh Verma  \n",
       "11843         Nikhil Mahar  \n",
       "8344         Amitabh Gupta  "
      ]
     },
     "execution_count": 54,
     "metadata": {},
     "output_type": "execute_result"
    }
   ],
   "source": [
    "top_movie = dataset.loc[dataset[\"Rating\"].sort_values(ascending=False)[:10].index]\n",
    "top_movie"
   ]
  },
  {
   "cell_type": "code",
   "execution_count": 71,
   "metadata": {},
   "outputs": [
    {
     "data": {
      "image/png": "[encoded data removed]",
      "text/plain": [
       "<Figure size 640x480 with 1 Axes>"
      ]
     },
     "metadata": {},
     "output_type": "display_data"
    }
   ],
   "source": [
    "sns.histplot(dataset[\"Rating\"], kde=True)\n",
    "plt.title(\"Rating Distribution\")\n",
    "plt.xlabel(\"Rating\")\n",
    "plt.ylabel(\"Count\")\n",
    "plt.tight_layout()\n",
    "plt.show()"
   ]
  },
  {
   "cell_type": "code",
   "execution_count": 75,
   "metadata": {},
   "outputs": [
    {
     "data": {
      "application/vnd.microsoft.datawrangler.viewer.v0+json": {
       "columns": [
        {
         "name": "index",
         "rawType": "int64",
         "type": "integer"
        },
        {
         "name": "Genre",
         "rawType": "object",
         "type": "string"
        },
        {
         "name": "Count",
         "rawType": "int64",
         "type": "integer"
        }
       ],
       "conversionMethod": "pd.DataFrame",
       "ref": "141e0178-f48e-45a9-b2b5-2610bd15fecf",
       "rows": [
        [
         "0",
         "Drama",
         "1137"
        ],
        [
         "1",
         "Drama, Romance",
         "443"
        ],
        [
         "2",
         "Action, Crime, Drama",
         "417"
        ],
        [
         "3",
         "Action",
         "391"
        ],
        [
         "4",
         "Drama, Family",
         "291"
        ]
       ],
       "shape": {
        "columns": 2,
        "rows": 5
       }
      },
      "text/html": [
       "<div>\n",
       "<style scoped>\n",
       "    .dataframe tbody tr th:only-of-type {\n",
       "        vertical-align: middle;\n",
       "    }\n",
       "\n",
       "    .dataframe tbody tr th {\n",
       "        vertical-align: top;\n",
       "    }\n",
       "\n",
       "    .dataframe thead th {\n",
       "        text-align: right;\n",
       "    }\n",
       "</style>\n",
       "<table border=\"1\" class=\"dataframe\">\n",
       "  <thead>\n",
       "    <tr style=\"text-align: right;\">\n",
       "      <th></th>\n",
       "      <th>Genre</th>\n",
       "      <th>Count</th>\n",
       "    </tr>\n",
       "  </thead>\n",
       "  <tbody>\n",
       "    <tr>\n",
       "      <th>0</th>\n",
       "      <td>Drama</td>\n",
       "      <td>1137</td>\n",
       "    </tr>\n",
       "    <tr>\n",
       "      <th>1</th>\n",
       "      <td>Drama, Romance</td>\n",
       "      <td>443</td>\n",
       "    </tr>\n",
       "    <tr>\n",
       "      <th>2</th>\n",
       "      <td>Action, Crime, Drama</td>\n",
       "      <td>417</td>\n",
       "    </tr>\n",
       "    <tr>\n",
       "      <th>3</th>\n",
       "      <td>Action</td>\n",
       "      <td>391</td>\n",
       "    </tr>\n",
       "    <tr>\n",
       "      <th>4</th>\n",
       "      <td>Drama, Family</td>\n",
       "      <td>291</td>\n",
       "    </tr>\n",
       "  </tbody>\n",
       "</table>\n",
       "</div>"
      ],
      "text/plain": [
       "                  Genre  Count\n",
       "0                 Drama   1137\n",
       "1        Drama, Romance    443\n",
       "2  Action, Crime, Drama    417\n",
       "3                Action    391\n",
       "4         Drama, Family    291"
      ]
     },
     "execution_count": 75,
     "metadata": {},
     "output_type": "execute_result"
    }
   ],
   "source": [
    "genre_counts = dataset[\"Genre\"].value_counts().reset_index()\n",
    "genre_counts.columns = [\"Genre\", \"Count\"]\n",
    "top_genres = genre_counts.head(5)\n",
    "top_genres"
   ]
  },
  {
   "cell_type": "code",
   "execution_count": 76,
   "metadata": {},
   "outputs": [
    {
     "data": {
      "image/png": "[encoded data removed]",
      "text/plain": [
       "<Figure size 640x480 with 1 Axes>"
      ]
     },
     "metadata": {},
     "output_type": "display_data"
    }
   ],
   "source": [
    "plt.figsize=(10, 5)\n",
    "plt.pie(top_genres[\"Count\"], labels=top_genres[\"Genre\"], autopct='%1.1f%%', startangle=140)\n",
    "plt.title(\"Top 5 Genres\")\n",
    "plt.show()"
   ]
  },
  {
   "cell_type": "code",
   "execution_count": 77,
   "metadata": {},
   "outputs": [
    {
     "data": {
      "application/vnd.microsoft.datawrangler.viewer.v0+json": {
       "columns": [
        {
         "name": "index",
         "rawType": "int64",
         "type": "integer"
        },
        {
         "name": "Director",
         "rawType": "object",
         "type": "string"
        },
        {
         "name": "Rating",
         "rawType": "float64",
         "type": "float"
        }
       ],
       "conversionMethod": "pd.DataFrame",
       "ref": "b25e5c1f-555d-4ac8-8ae3-c7c753fdfd6b",
       "rows": [
        [
         "2243",
         "Saif Ali Sayeed",
         "10.0"
        ],
        [
         "2560",
         "Sriram Raja",
         "9.7"
        ],
        [
         "504",
         "Bobby Kumar",
         "9.6"
        ],
        [
         "2598",
         "Suhrud Godbole",
         "9.4"
        ],
        [
         "322",
         "Arvind Pratap",
         "9.4"
        ],
        [
         "1513",
         "Munni Pankaj",
         "9.4"
        ],
        [
         "1921",
         "Rajat Bhardwaj",
         "9.3"
        ],
        [
         "2809",
         "Venkatesh Bk",
         "9.3"
        ],
        [
         "2340",
         "Sapna Bhavnani",
         "9.3"
        ],
        [
         "1601",
         "Nikhil Mahar",
         "9.3"
        ]
       ],
       "shape": {
        "columns": 2,
        "rows": 10
       }
      },
      "text/html": [
       "<div>\n",
       "<style scoped>\n",
       "    .dataframe tbody tr th:only-of-type {\n",
       "        vertical-align: middle;\n",
       "    }\n",
       "\n",
       "    .dataframe tbody tr th {\n",
       "        vertical-align: top;\n",
       "    }\n",
       "\n",
       "    .dataframe thead th {\n",
       "        text-align: right;\n",
       "    }\n",
       "</style>\n",
       "<table border=\"1\" class=\"dataframe\">\n",
       "  <thead>\n",
       "    <tr style=\"text-align: right;\">\n",
       "      <th></th>\n",
       "      <th>Director</th>\n",
       "      <th>Rating</th>\n",
       "    </tr>\n",
       "  </thead>\n",
       "  <tbody>\n",
       "    <tr>\n",
       "      <th>2243</th>\n",
       "      <td>Saif Ali Sayeed</td>\n",
       "      <td>10.0</td>\n",
       "    </tr>\n",
       "    <tr>\n",
       "      <th>2560</th>\n",
       "      <td>Sriram Raja</td>\n",
       "      <td>9.7</td>\n",
       "    </tr>\n",
       "    <tr>\n",
       "      <th>504</th>\n",
       "      <td>Bobby Kumar</td>\n",
       "      <td>9.6</td>\n",
       "    </tr>\n",
       "    <tr>\n",
       "      <th>2598</th>\n",
       "      <td>Suhrud Godbole</td>\n",
       "      <td>9.4</td>\n",
       "    </tr>\n",
       "    <tr>\n",
       "      <th>322</th>\n",
       "      <td>Arvind Pratap</td>\n",
       "      <td>9.4</td>\n",
       "    </tr>\n",
       "    <tr>\n",
       "      <th>1513</th>\n",
       "      <td>Munni Pankaj</td>\n",
       "      <td>9.4</td>\n",
       "    </tr>\n",
       "    <tr>\n",
       "      <th>1921</th>\n",
       "      <td>Rajat Bhardwaj</td>\n",
       "      <td>9.3</td>\n",
       "    </tr>\n",
       "    <tr>\n",
       "      <th>2809</th>\n",
       "      <td>Venkatesh Bk</td>\n",
       "      <td>9.3</td>\n",
       "    </tr>\n",
       "    <tr>\n",
       "      <th>2340</th>\n",
       "      <td>Sapna Bhavnani</td>\n",
       "      <td>9.3</td>\n",
       "    </tr>\n",
       "    <tr>\n",
       "      <th>1601</th>\n",
       "      <td>Nikhil Mahar</td>\n",
       "      <td>9.3</td>\n",
       "    </tr>\n",
       "  </tbody>\n",
       "</table>\n",
       "</div>"
      ],
      "text/plain": [
       "             Director  Rating\n",
       "2243  Saif Ali Sayeed    10.0\n",
       "2560      Sriram Raja     9.7\n",
       "504       Bobby Kumar     9.6\n",
       "2598   Suhrud Godbole     9.4\n",
       "322     Arvind Pratap     9.4\n",
       "1513     Munni Pankaj     9.4\n",
       "1921   Rajat Bhardwaj     9.3\n",
       "2809     Venkatesh Bk     9.3\n",
       "2340   Sapna Bhavnani     9.3\n",
       "1601     Nikhil Mahar     9.3"
      ]
     },
     "execution_count": 77,
     "metadata": {},
     "output_type": "execute_result"
    }
   ],
   "source": [
    "director_avg_rating = dataset.groupby(\"Director\")[\"Rating\"].mean().reset_index()\n",
    "director_avg_rating = director_avg_rating.sort_values(by= \"Rating\", ascending=False)\n",
    "top_directors = director_avg_rating.head(10)\n",
    "top_directors"
   ]
  },
  {
   "cell_type": "code",
   "execution_count": 82,
   "metadata": {},
   "outputs": [
    {
     "name": "stderr",
     "output_type": "stream",
     "text": [
      "C:\\Users\\sagni\\AppData\\Local\\Temp\\ipykernel_19184\\3326979600.py:2: FutureWarning: \n",
      "\n",
      "Passing `palette` without assigning `hue` is deprecated and will be removed in v0.14.0. Assign the `x` variable to `hue` and set `legend=False` for the same effect.\n",
      "\n",
      "  sns.barplot(x=\"Director\", y=\"Rating\", data=top_directors, palette=\"viridis\")\n"
     ]
    },
    {
     "data": {
      "image/png": "[encoded data removed]",
      "text/plain": [
       "<Figure size 640x480 with 1 Axes>"
      ]
     },
     "metadata": {},
     "output_type": "display_data"
    }
   ],
   "source": [
    "plt.figsize=(10, 5)\n",
    "sns.barplot(x=\"Director\", y=\"Rating\", data=top_directors, palette=\"viridis\")\n",
    "plt.title(\"Top 10 Directors\")\n",
    "plt.xlabel(\"Director\")\n",
    "plt.ylabel(\"Average Rating\")\n",
    "plt.xticks(rotation=90)\n",
    "plt.show()"
   ]
  },
  {
   "cell_type": "code",
   "execution_count": 83,
   "metadata": {},
   "outputs": [
    {
     "data": {
      "application/vnd.microsoft.datawrangler.viewer.v0+json": {
       "columns": [
        {
         "name": "index",
         "rawType": "int64",
         "type": "integer"
        },
        {
         "name": "Actor",
         "rawType": "object",
         "type": "string"
        },
        {
         "name": "Count",
         "rawType": "int64",
         "type": "integer"
        }
       ],
       "conversionMethod": "pd.DataFrame",
       "ref": "903f11e9-916a-40b2-a74d-3fe23bfbb8bb",
       "rows": [
        [
         "0",
         "Jeetendra",
         "140"
        ],
        [
         "1",
         "Dharmendra",
         "134"
        ],
        [
         "2",
         "Mithun Chakraborty",
         "130"
        ],
        [
         "3",
         "Ashok Kumar",
         "125"
        ],
        [
         "4",
         "Rajesh Khanna",
         "118"
        ],
        [
         "5",
         "Amitabh Bachchan",
         "116"
        ],
        [
         "6",
         "Dev Anand",
         "90"
        ],
        [
         "7",
         "Shashi Kapoor",
         "88"
        ],
        [
         "8",
         "Akshay Kumar",
         "82"
        ],
        [
         "9",
         "Sanjay Dutt",
         "73"
        ]
       ],
       "shape": {
        "columns": 2,
        "rows": 10
       }
      },
      "text/html": [
       "<div>\n",
       "<style scoped>\n",
       "    .dataframe tbody tr th:only-of-type {\n",
       "        vertical-align: middle;\n",
       "    }\n",
       "\n",
       "    .dataframe tbody tr th {\n",
       "        vertical-align: top;\n",
       "    }\n",
       "\n",
       "    .dataframe thead th {\n",
       "        text-align: right;\n",
       "    }\n",
       "</style>\n",
       "<table border=\"1\" class=\"dataframe\">\n",
       "  <thead>\n",
       "    <tr style=\"text-align: right;\">\n",
       "      <th></th>\n",
       "      <th>Actor</th>\n",
       "      <th>Count</th>\n",
       "    </tr>\n",
       "  </thead>\n",
       "  <tbody>\n",
       "    <tr>\n",
       "      <th>0</th>\n",
       "      <td>Jeetendra</td>\n",
       "      <td>140</td>\n",
       "    </tr>\n",
       "    <tr>\n",
       "      <th>1</th>\n",
       "      <td>Dharmendra</td>\n",
       "      <td>134</td>\n",
       "    </tr>\n",
       "    <tr>\n",
       "      <th>2</th>\n",
       "      <td>Mithun Chakraborty</td>\n",
       "      <td>130</td>\n",
       "    </tr>\n",
       "    <tr>\n",
       "      <th>3</th>\n",
       "      <td>Ashok Kumar</td>\n",
       "      <td>125</td>\n",
       "    </tr>\n",
       "    <tr>\n",
       "      <th>4</th>\n",
       "      <td>Rajesh Khanna</td>\n",
       "      <td>118</td>\n",
       "    </tr>\n",
       "    <tr>\n",
       "      <th>5</th>\n",
       "      <td>Amitabh Bachchan</td>\n",
       "      <td>116</td>\n",
       "    </tr>\n",
       "    <tr>\n",
       "      <th>6</th>\n",
       "      <td>Dev Anand</td>\n",
       "      <td>90</td>\n",
       "    </tr>\n",
       "    <tr>\n",
       "      <th>7</th>\n",
       "      <td>Shashi Kapoor</td>\n",
       "      <td>88</td>\n",
       "    </tr>\n",
       "    <tr>\n",
       "      <th>8</th>\n",
       "      <td>Akshay Kumar</td>\n",
       "      <td>82</td>\n",
       "    </tr>\n",
       "    <tr>\n",
       "      <th>9</th>\n",
       "      <td>Sanjay Dutt</td>\n",
       "      <td>73</td>\n",
       "    </tr>\n",
       "  </tbody>\n",
       "</table>\n",
       "</div>"
      ],
      "text/plain": [
       "                Actor  Count\n",
       "0           Jeetendra    140\n",
       "1          Dharmendra    134\n",
       "2  Mithun Chakraborty    130\n",
       "3         Ashok Kumar    125\n",
       "4       Rajesh Khanna    118\n",
       "5    Amitabh Bachchan    116\n",
       "6           Dev Anand     90\n",
       "7       Shashi Kapoor     88\n",
       "8        Akshay Kumar     82\n",
       "9         Sanjay Dutt     73"
      ]
     },
     "execution_count": 83,
     "metadata": {},
     "output_type": "execute_result"
    }
   ],
   "source": [
    "actor_counts = dataset[\"Actor 1\"].value_counts().reset_index()\n",
    "actor_counts.columns = [\"Actor\", \"Count\"]\n",
    "top_actors = actor_counts.head(10)\n",
    "top_actors"
   ]
  },
  {
   "cell_type": "code",
   "execution_count": 88,
   "metadata": {},
   "outputs": [
    {
     "name": "stderr",
     "output_type": "stream",
     "text": [
      "C:\\Users\\sagni\\AppData\\Local\\Temp\\ipykernel_19184\\3480835499.py:2: FutureWarning: \n",
      "\n",
      "Passing `palette` without assigning `hue` is deprecated and will be removed in v0.14.0. Assign the `y` variable to `hue` and set `legend=False` for the same effect.\n",
      "\n",
      "  sns.barplot(x=\"Count\", y=\"Actor\", data=top_actors, palette=\"viridis\")\n"
     ]
    },
    {
     "data": {
      "image/png": "[encoded data removed]",
      "text/plain": [
       "<Figure size 1200x600 with 1 Axes>"
      ]
     },
     "metadata": {},
     "output_type": "display_data"
    }
   ],
   "source": [
    "plt.figure(figsize=(12, 6))\n",
    "sns.barplot(x=\"Count\", y=\"Actor\", data=top_actors, palette=\"viridis\")\n",
    "plt.title(\"Top 10 Actors\")\n",
    "plt.xlabel(\"Count\")\n",
    "plt.ylabel(\"Actor\")\n",
    "plt.show()"
   ]
  }
 ],
 "metadata": {
  "kernelspec": {
   "display_name": "Python 3",
   "language": "python",
   "name": "python3"
  },
  "language_info": {
   "codemirror_mode": {
    "name": "ipython",
    "version": 3
   },
   "file_extension": ".py",
   "mimetype": "text/x-python",
   "name": "python",
   "nbconvert_exporter": "python",
   "pygments_lexer": "ipython3",
   "version": "3.13.2"
  }
 },
 "nbformat": 4,
 "nbformat_minor": 2
}
